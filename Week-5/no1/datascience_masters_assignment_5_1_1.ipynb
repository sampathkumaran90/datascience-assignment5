{
 "cells": [
  {
   "cell_type": "code",
   "execution_count": 2,
   "metadata": {},
   "outputs": [
    {
     "name": "stdout",
     "output_type": "stream",
     "text": [
      "Division by Zero Error\n",
      "Finally print after caught by zero division error\n"
     ]
    }
   ],
   "source": [
    "def runDivisionByZero():\n",
    "    try:\n",
    "        a = 5 / 0\n",
    "        print(a)\n",
    "    except ZeroDivisionError:\n",
    "        print('Division by Zero Error')\n",
    "    finally:\n",
    "        print('Finally print after caught by zero division error')\n",
    "        \n",
    "runDivisionByZero()"
   ]
  },
  {
   "cell_type": "code",
   "execution_count": null,
   "metadata": {
    "collapsed": true
   },
   "outputs": [],
   "source": []
  }
 ],
 "metadata": {
  "kernelspec": {
   "display_name": "Python 3",
   "language": "python",
   "name": "python3"
  },
  "language_info": {
   "codemirror_mode": {
    "name": "ipython",
    "version": 3
   },
   "file_extension": ".py",
   "mimetype": "text/x-python",
   "name": "python",
   "nbconvert_exporter": "python",
   "pygments_lexer": "ipython3",
   "version": "3.6.3"
  }
 },
 "nbformat": 4,
 "nbformat_minor": 2
}
